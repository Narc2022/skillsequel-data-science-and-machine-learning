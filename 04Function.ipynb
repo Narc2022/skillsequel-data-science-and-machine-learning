{
  "nbformat": 4,
  "nbformat_minor": 0,
  "metadata": {
    "colab": {
      "provenance": [],
      "authorship_tag": "ABX9TyNCRLFyGLoQa9SBzL73gk8+",
      "include_colab_link": true
    },
    "kernelspec": {
      "name": "python3",
      "display_name": "Python 3"
    },
    "language_info": {
      "name": "python"
    }
  },
  "cells": [
    {
      "cell_type": "markdown",
      "metadata": {
        "id": "view-in-github",
        "colab_type": "text"
      },
      "source": [
        "<a href=\"https://colab.research.google.com/github/Narc2022/skillsequel-data-science-and-machine-learning/blob/main/04Function.ipynb\" target=\"_parent\"><img src=\"https://colab.research.google.com/assets/colab-badge.svg\" alt=\"Open In Colab\"/></a>"
      ]
    },
    {
      "cell_type": "code",
      "execution_count": null,
      "metadata": {
        "id": "0u8A-4hhSQd5"
      },
      "outputs": [],
      "source": [
        "#Function Syntax\n",
        "def function_name(x,y):\n",
        "  print(x + y)\n",
        "\n",
        "function_name(arguments);"
      ]
    },
    {
      "cell_type": "code",
      "source": [
        "def add_two_number(x,y):\n",
        "  print(x + y)\n",
        "\n",
        "add_two_number(10,50)"
      ],
      "metadata": {
        "colab": {
          "base_uri": "https://localhost:8080/"
        },
        "id": "XEofWB5UDdRh",
        "outputId": "3dfb75e0-0d63-4515-bfac-101d28c52003"
      },
      "execution_count": 1,
      "outputs": [
        {
          "output_type": "stream",
          "name": "stdout",
          "text": [
            "60\n"
          ]
        }
      ]
    }
  ]
}