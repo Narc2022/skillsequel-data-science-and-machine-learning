{
  "nbformat": 4,
  "nbformat_minor": 0,
  "metadata": {
    "colab": {
      "provenance": [],
      "authorship_tag": "ABX9TyNZoCrzk8s3iQ/UY2xGx0by",
      "include_colab_link": true
    },
    "kernelspec": {
      "name": "python3",
      "display_name": "Python 3"
    },
    "language_info": {
      "name": "python"
    }
  },
  "cells": [
    {
      "cell_type": "markdown",
      "metadata": {
        "id": "view-in-github",
        "colab_type": "text"
      },
      "source": [
        "<a href=\"https://colab.research.google.com/github/Narc2022/skillsequel-data-science-and-machine-learning/blob/main/05OOPS_py.ipynb\" target=\"_parent\"><img src=\"https://colab.research.google.com/assets/colab-badge.svg\" alt=\"Open In Colab\"/></a>"
      ]
    },
    {
      "cell_type": "code",
      "execution_count": null,
      "metadata": {
        "id": "PjwQmiZeLq9X"
      },
      "outputs": [],
      "source": []
    },
    {
      "cell_type": "markdown",
      "source": [
        ">*class is blue print in Oops.class is collection of object\n",
        "\n",
        ">*object is nothing but real world entity with certain property and \n",
        "behviour\n",
        "\n",
        ">*methods is the behavior and property\n",
        "\n"
      ],
      "metadata": {
        "id": "FeUvHxAqcqTt"
      }
    },
    {
      "cell_type": "code",
      "source": [
        "# syntax:\n",
        "# class class_name:\n",
        "#     def method_name(self,paraneters):\n",
        "#     body\n",
        "# objectname = class_name()\n",
        "# objectname.method_name(arguments)"
      ],
      "metadata": {
        "id": "Rc772TCdc1gS"
      },
      "execution_count": null,
      "outputs": []
    },
    {
      "cell_type": "code",
      "source": [
        "class demo:\n",
        "    def abc(self,a,b):\n",
        "      print(a+b)\n",
        "d=demo();\n",
        "d.abc(5,90)"
      ],
      "metadata": {
        "colab": {
          "base_uri": "https://localhost:8080/"
        },
        "id": "x--aW0YfeQv5",
        "outputId": "51dcdfef-087a-4148-c223-3f9e08d4962f"
      },
      "execution_count": null,
      "outputs": [
        {
          "output_type": "stream",
          "name": "stdout",
          "text": [
            "95\n"
          ]
        }
      ]
    }
  ]
}